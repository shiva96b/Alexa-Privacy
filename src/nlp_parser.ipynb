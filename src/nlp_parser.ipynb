{
  "nbformat": 4,
  "nbformat_minor": 0,
  "metadata": {
    "colab": {
      "name": "NLP.ipynb",
      "provenance": []
    },
    "kernelspec": {
      "name": "python3",
      "display_name": "Python 3"
    }
  },
  "cells": [
    {
      "cell_type": "code",
      "metadata": {
        "id": "c-9fAvDop5gO",
        "outputId": "2adcb64a-73e0-4519-f788-d0b1f8226e5f",
        "colab": {
          "base_uri": "https://localhost:8080/",
          "height": 136
        }
      },
      "source": [
        "import nltk\n",
        "nltk.download('punkt')\n",
        "nltk.download('averaged_perceptron_tagger')\n",
        "nltk.download('tagsets')\n",
        "from nltk import word_tokenize\n",
        "from nltk.data import load\n"
      ],
      "execution_count": 1,
      "outputs": [
        {
          "output_type": "stream",
          "text": [
            "[nltk_data] Downloading package punkt to /root/nltk_data...\n",
            "[nltk_data]   Unzipping tokenizers/punkt.zip.\n",
            "[nltk_data] Downloading package averaged_perceptron_tagger to\n",
            "[nltk_data]     /root/nltk_data...\n",
            "[nltk_data]   Unzipping taggers/averaged_perceptron_tagger.zip.\n",
            "[nltk_data] Downloading package tagsets to /root/nltk_data...\n",
            "[nltk_data]   Unzipping help/tagsets.zip.\n"
          ],
          "name": "stdout"
        }
      ]
    },
    {
      "cell_type": "code",
      "metadata": {
        "id": "FnQlcYlmp-lK",
        "outputId": "3f504681-f227-482f-a405-5fd748838d54",
        "colab": {
          "base_uri": "https://localhost:8080/",
          "height": 153
        }
      },
      "source": [
        "# POS Tagging\n",
        "\n",
        "tagdict = load('help/tagsets/upenn_tagset.pickle')\n",
        "pos_tags_list = list(tagdict.keys())\n",
        "pos_dict = dict.fromkeys(pos_tags_list, 0)\n",
        "\n",
        "sen = 'the little yellow dog barked at the cat'\n",
        "tags = nltk.pos_tag(word_tokenize(sen))\n",
        "\n",
        "tags"
      ],
      "execution_count": 9,
      "outputs": [
        {
          "output_type": "execute_result",
          "data": {
            "text/plain": [
              "[('the', 'DT'),\n",
              " ('little', 'JJ'),\n",
              " ('yellow', 'JJ'),\n",
              " ('dog', 'NN'),\n",
              " ('barked', 'VBD'),\n",
              " ('at', 'IN'),\n",
              " ('the', 'DT'),\n",
              " ('cat', 'NN')]"
            ]
          },
          "metadata": {
            "tags": []
          },
          "execution_count": 9
        }
      ]
    },
    {
      "cell_type": "code",
      "metadata": {
        "id": "GNMDUkRdqPnD",
        "outputId": "5813c180-a4d6-4a0f-d456-88894ed23ae6",
        "colab": {
          "base_uri": "https://localhost:8080/",
          "height": 119
        }
      },
      "source": [
        "# Parse Tree\n",
        "\n",
        "from nltk import Tree\n",
        "\n",
        "\n",
        "pattern = \"\"\"NP: {<DT>?<JJ>*<NN>}\n",
        "VBD: {<VBD>}\n",
        "IN: {<IN>}\"\"\"\n",
        "\n",
        "NPChunker = nltk.RegexpParser(pattern) \n",
        "result = NPChunker.parse(tags)\n",
        "\n",
        "Tree.fromstring(str(result)).pretty_print()"
      ],
      "execution_count": 13,
      "outputs": [
        {
          "output_type": "stream",
          "text": [
            "                             S                                      \n",
            "            _________________|_____________________________          \n",
            "           NP                        VBD       IN          NP       \n",
            "   ________|_________________         |        |      _____|____     \n",
            "the/DT little/JJ yellow/JJ dog/NN barked/VBD at/IN the/DT     cat/NN\n",
            "\n"
          ],
          "name": "stdout"
        }
      ]
    },
    {
      "cell_type": "code",
      "metadata": {
        "id": "VLnXjpq1qjkA"
      },
      "source": [
        ""
      ],
      "execution_count": null,
      "outputs": []
    }
  ]
}